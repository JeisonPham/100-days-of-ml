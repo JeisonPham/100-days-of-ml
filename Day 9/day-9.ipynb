{
 "cells": [
  {
   "cell_type": "code",
   "execution_count": null,
   "metadata": {
    "collapsed": true
   },
   "outputs": [],
   "source": []
  },
  {
   "cell_type": "code",
   "execution_count": null,
   "outputs": [],
   "source": [
    "from twitch import TwitchClient, TwitchHelix, api\n",
    "import twitch\n",
    "\n",
    "client = TwitchClient(client_id=\"k044lyga8ykvmhtyh33za4ym1lcoqf\")\n",
    "channel = client.channels.get_by_id(44322889)\n"
   ],
   "metadata": {
    "collapsed": false,
    "pycharm": {
     "name": "#%%\n"
    }
   }
  },
  {
   "cell_type": "code",
   "execution_count": null,
   "outputs": [],
   "source": [
    "twitch_api = client.clips.get_top(game=\"League of Legends\", language=\"en\", period=\"day\", limit=100)\n",
    "twitch_api"
   ],
   "metadata": {
    "collapsed": false,
    "pycharm": {
     "name": "#%%\n"
    }
   }
  },
  {
   "cell_type": "code",
   "execution_count": null,
   "outputs": [],
   "source": [
    "from selenium import webdriver\n",
    "import time\n",
    "\n",
    "\n",
    "def src_url(embed):\n",
    "    path = r'chromedriver'\n",
    "    driver = webdriver.Chrome()\n",
    "    driver.get(embed)\n",
    "    time.sleep(2)\n",
    "    video = driver.find_elements_by_xpath('//video[@preload=\"auto\"]')\n",
    "    src = video[0].get_attribute('src')\n",
    "    print(src)\n",
    "    driver.close()\n",
    "    return src"
   ],
   "metadata": {
    "collapsed": false,
    "pycharm": {
     "name": "#%%\n"
    }
   }
  },
  {
   "cell_type": "code",
   "execution_count": null,
   "outputs": [],
   "source": [
    "import urllib.request\n",
    "\n",
    "\n",
    "channel_list = []\n",
    "diverse = {}\n",
    "i = 0\n",
    "for clip in twitch_api:\n",
    "    # clip = twitch_api[i]\n",
    "    \n",
    "    channel_url = clip.broadcaster['display_name']\n",
    "    \n",
    "    if channel_url in diverse.keys():\n",
    "        if diverse[channel_url] == 2:\n",
    "            continue\n",
    "        else:\n",
    "            diverse[channel_url] = 2\n",
    "    else:\n",
    "        diverse[channel_url] = 1\n",
    "    src = src_url(clip.embed_url)\n",
    "    channel_list.append(channel_url)\n",
    "    \n",
    "    urllib.request.urlretrieve(src, f\"Videos/{i}.mp4\")\n",
    "    i = i + 1;\n",
    "    if(i > 25):\n",
    "        break\n",
    "\n",
    "\n",
    "\n",
    "\n",
    "#%\n"
   ],
   "metadata": {
    "collapsed": false,
    "pycharm": {
     "name": "#%%\n"
    }
   }
  },
  {
   "cell_type": "code",
   "execution_count": null,
   "outputs": [],
   "source": [
    "\n",
    "\n",
    "\n"
   ],
   "metadata": {
    "collapsed": false,
    "pycharm": {
     "name": "#%%\n"
    }
   }
  }
 ],
 "metadata": {
  "kernelspec": {
   "display_name": "Python 3",
   "language": "python",
   "name": "python3"
  },
  "language_info": {
   "codemirror_mode": {
    "name": "ipython",
    "version": 2
   },
   "file_extension": ".py",
   "mimetype": "text/x-python",
   "name": "python",
   "nbconvert_exporter": "python",
   "pygments_lexer": "ipython2",
   "version": "2.7.6"
  },
  "pycharm": {
   "stem_cell": {
    "cell_type": "raw",
    "source": [],
    "metadata": {
     "collapsed": false
    }
   }
  }
 },
 "nbformat": 4,
 "nbformat_minor": 0
}