{
 "cells": [
  {
   "cell_type": "code",
   "execution_count": 1,
   "metadata": {
    "pycharm": {
     "is_executing": false
    },
    "scrolled": true
   },
   "outputs": [],
   "source": [
    "import numpy as np\n"
   ]
  },
  {
   "cell_type": "code",
   "execution_count": 89,
   "metadata": {
    "pycharm": {
     "is_executing": false,
     "name": "#%%\n"
    },
    "scrolled": true
   },
   "outputs": [],
   "source": [
    "def sigmoid(z):\n",
    "    return 1 / (1 + np.exp(-z))\n",
    "\n",
    "def hypothesis(x, theta):\n",
    "    return sigmoid(x @ theta)\n",
    "\n",
    "def cost(x, y, theta, lambda_):\n",
    "    theta1 = theta.copy()\n",
    "    h = hypothesis(x, theta1)\n",
    "    m = len(y)\n",
    "    return -1/m * np.sum(y * np.log(h) + (1-y) * np.log(1 - h)) \\\n",
    "            + lambda_/(2*m) * np.sum(theta1**2)\n",
    "\n",
    "def gradientDescent(X, y, theta, alpha, lambda_, iter):\n",
    "    X1 = X.copy()\n",
    "    y1 = y.copy()\n",
    "    m = len(y)\n",
    "    theta1 = theta.copy()\n",
    "    theta_history = []\n",
    "    J_history = []\n",
    "    \n",
    "    for i in range(iter):\n",
    "        h = np.dot(X1, theta1)\n",
    "        loss = h - y1\n",
    "        theta1 = theta1 - (alpha / m) * X1.T @ loss - lambda_/m * theta1\n",
    "#         print(loss.shape, theta1.shape)\n",
    "        theta_history.append(theta1)\n",
    "        J_history.append(cost(X1, y1, theta1, lambda_))\n",
    "    return theta_history, J_history\n",
    "\n",
    "def predict(z):\n",
    "    return np.round(z)"
   ]
  },
  {
   "cell_type": "code",
   "execution_count": 90,
   "metadata": {
    "pycharm": {
     "is_executing": false,
     "name": "#%%\n"
    },
    "scrolled": true
   },
   "outputs": [],
   "source": [
    "np.random.seed(42)\n",
    "x = np.linspace(-2, 2, 100).reshape((100,1))\n",
    "thetas = np.ones((x.shape[1], 1))\n",
    "y = np.ones((x.shape[0], 1))\n",
    "thetas, c_hist = gradientDescent(x, y, thetas, 0.01, 10, 20)"
   ]
  },
  {
   "cell_type": "code",
   "execution_count": 91,
   "metadata": {},
   "outputs": [
    {
     "data": {
      "image/png": "[encoded data removed]",
      "text/plain": [
       "<Figure size 432x288 with 1 Axes>"
      ]
     },
     "metadata": {
      "needs_background": "light"
     },
     "output_type": "display_data"
    }
   ],
   "source": [
    "import matplotlib.pyplot as plt\n",
    "%matplotlib inline\n",
    "plt.title('Cost Function J')\n",
    "plt.xlabel('No. of iterations')\n",
    "plt.ylabel('Cost')\n",
    "plt.plot(c_hist, marker='*', linestyle=\"None\")\n",
    "plt.show()"
   ]
  },
  {
   "cell_type": "code",
   "execution_count": 92,
   "metadata": {
    "scrolled": true
   },
   "outputs": [
    {
     "data": {
      "text/plain": [
       "((100, 2), (100, 1), (2, 1))"
      ]
     },
     "execution_count": 92,
     "metadata": {},
     "output_type": "execute_result"
    }
   ],
   "source": [
    "from numpy import genfromtxt\n",
    "my_data = genfromtxt('untitled.txt', delimiter=',')\n",
    "x = my_data[:, 0:1]\n",
    "y = np.reshape(my_data[:, -1], (x.shape[0], 1))\n",
    "x = np.c_[np.ones(len(x)), x]\n",
    "thetas = np.ones((x.shape[1],1))\n",
    "x.shape, y.shape, thetas.shape\n"
   ]
  },
  {
   "cell_type": "code",
   "execution_count": 93,
   "metadata": {
    "scrolled": true
   },
   "outputs": [
    {
     "name": "stderr",
     "output_type": "stream",
     "text": [
      "/Users/jeison/miniconda3/envs/100-days-of-ml/lib/python3.7/site-packages/ipykernel_launcher.py:11: RuntimeWarning: divide by zero encountered in log\n",
      "  # This is added back by InteractiveShellApp.init_path()\n",
      "/Users/jeison/miniconda3/envs/100-days-of-ml/lib/python3.7/site-packages/ipykernel_launcher.py:11: RuntimeWarning: invalid value encountered in multiply\n",
      "  # This is added back by InteractiveShellApp.init_path()\n"
     ]
    }
   ],
   "source": [
    "theta_hist, c_hist = gradientDescent(x, y, thetas, 1e-7, 10, 100)"
   ]
  },
  {
   "cell_type": "code",
   "execution_count": 94,
   "metadata": {},
   "outputs": [
    {
     "data": {
      "image/png": "[encoded data removed]",
      "text/plain": [
       "<Figure size 432x288 with 1 Axes>"
      ]
     },
     "metadata": {
      "needs_background": "light"
     },
     "output_type": "display_data"
    }
   ],
   "source": [
    "import matplotlib.pyplot as plt\n",
    "%matplotlib inline\n",
    "plt.title('Cost Function J')\n",
    "plt.xlabel('No. of iterations')\n",
    "plt.ylabel('Cost')\n",
    "plt.plot(c_hist, marker='*', linestyle=\"None\")\n",
    "plt.show()"
   ]
  },
  {
   "cell_type": "code",
   "execution_count": null,
   "metadata": {
    "scrolled": true
   },
   "outputs": [],
   "source": []
  },
  {
   "cell_type": "code",
   "execution_count": null,
   "metadata": {},
   "outputs": [],
   "source": []
  }
 ],
 "metadata": {
  "kernelspec": {
   "display_name": "Python 3",
   "language": "python",
   "name": "python3"
  },
  "language_info": {
   "codemirror_mode": {
    "name": "ipython",
    "version": 3
   },
   "file_extension": ".py",
   "mimetype": "text/x-python",
   "name": "python",
   "nbconvert_exporter": "python",
   "pygments_lexer": "ipython3",
   "version": "3.7.5"
  },
  "pycharm": {
   "stem_cell": {
    "cell_type": "raw",
    "metadata": {
     "collapsed": false
    },
    "source": []
   }
  }
 },
 "nbformat": 4,
 "nbformat_minor": 4
}
