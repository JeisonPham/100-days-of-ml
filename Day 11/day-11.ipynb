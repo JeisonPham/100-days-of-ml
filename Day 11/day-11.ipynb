{
 "cells": [
  {
   "cell_type": "code",
   "execution_count": 6,
   "metadata": {
    "pycharm": {
     "is_executing": false
    }
   },
   "outputs": [],
   "source": [
    "import numpy as np"
   ]
  },
  {
   "cell_type": "code",
   "execution_count": 7,
   "metadata": {
    "pycharm": {
     "is_executing": false,
     "name": "#%%\n"
    }
   },
   "outputs": [],
   "source": [
    "def hypothesis(x, theta0, theta1):\n",
    "    y = theta0 + theta1 * x\n",
    "    return y"
   ]
  },
  {
   "cell_type": "code",
   "execution_count": 8,
   "metadata": {
    "pycharm": {
     "is_executing": false,
     "name": "#%%\n"
    }
   },
   "outputs": [],
   "source": [
    "def cost(x, y, theta0, theta1):\n",
    "    return (1/2*len(x)) * np.sum(np.square(hypothesis(x, theta0, theta1) - y))"
   ]
  },
  {
   "cell_type": "code",
   "execution_count": 37,
   "metadata": {
    "pycharm": {
     "is_executing": false,
     "name": "#%%\n"
    }
   },
   "outputs": [],
   "source": [
    "def gradient(theta0, theta1, learning_rate, x, y, iter):\n",
    "    t0 = theta0\n",
    "    t1 = theta1\n",
    "    history = []\n",
    "    costs = []\n",
    "    for i in range(iter):\n",
    "        prediction = hypothesis(x, t0, t1)\n",
    "        temp0 = t0 - learning_rate / len(x) * np.sum(prediction - y)\n",
    "        temp1 = t1 - learning_rate / len(x) * np.sum(np.multiply((prediction - y), x))\n",
    "        t0 = temp0\n",
    "        t1 = temp1\n",
    "        history.append([t0, t1])\n",
    "        costs.append(cost(x, y, t0, t1))\n",
    "    return history, costs\n"
   ]
  },
  {
   "cell_type": "code",
   "execution_count": null,
   "metadata": {
    "pycharm": {
     "is_executing": false,
     "name": "#%%\n"
    }
   },
   "outputs": [],
   "source": []
  },
  {
   "cell_type": "code",
   "execution_count": 61,
   "metadata": {
    "collapsed": false,
    "jupyter": {
     "outputs_hidden": false
    },
    "pycharm": {
     "is_executing": false,
     "name": "#%%\n"
    }
   },
   "outputs": [],
   "source": [
    "np.random.seed(42)\n",
    "x = 2 * np.random.rand(100,1)\n",
    "np.random.seed(41)\n",
    "y = 4 + 3 * x + np.random.randn(100,1)\n",
    "theta0 = 0\n",
    "theta1= 0\n",
    "\n",
    "history, costs = gradient(theta0, theta1, 0.05, x, y, 100)\n",
    "theta0 = history[-1][0]\n",
    "theta1 = history[-1][1]"
   ]
  },
  {
   "cell_type": "code",
   "execution_count": null,
   "metadata": {
    "pycharm": {
     "is_executing": false,
     "name": "#%%\n"
    }
   },
   "outputs": [],
   "source": [
    "import numpy as np\n",
    "import matplotlib.pyplot as plt\n",
    "import matplotlib.animation as animation\n",
    "from IPython.display import HTML, Image\n",
    "import seaborn as sns\n",
    "sns.set()\n",
    "\n",
    "\n",
    "fig, (ax1, ax2) = plt.subplots(2,1, figsize=(8,8))\n",
    "line1, = ax1.plot([], [], color = \"r\", marker='*', linestyle='None')\n",
    "line2, = ax1.plot([], [], color = \"g\")\n",
    "line3, = ax2.plot([], [], color='skyblue')\n",
    "\n",
    "val = len(history)\n",
    "\n",
    "def update(num):\n",
    "    predict = hypothesis(x, history[num][0], history[num][1])\n",
    "    ax1.set_title(f\"Frame {num}\")\n",
    "    line1.set_data(x, y)\n",
    "    line2.set_data(x, predict)\n",
    "    line3.set_data(range(val)[:num], costs[:num])\n",
    "    return [line1,line2, line3]\n",
    "ax1.set_xlim(0,2)\n",
    "ax1.set_xlabel(\"X\")\n",
    "ax1.set_xlabel(\"Y\")\n",
    "ax1.set_ylim(0,14)\n",
    "ax2.set_xlim(0,val)\n",
    "ax2.set_ylim(0,np.max(costs))\n",
    "ax2.set_xlabel(\"Iterations\")\n",
    "ax2.set_ylabel(\"Cost\")\n",
    "\n",
    "\n",
    "ani = animation.FuncAnimation(fig, update, len(x),\n",
    "                  interval=val, blit=True)\n",
    "\n",
    "ani.save('animation.gif', writer='imagemagick', fps=60)\n",
    "Image(url='animation.gif')\n"
   ]
  },
  {
   "cell_type": "code",
   "execution_count": null,
   "metadata": {
    "collapsed": false,
    "jupyter": {
     "outputs_hidden": false
    },
    "pycharm": {
     "is_executing": false,
     "name": "#%%\n"
    }
   },
   "outputs": [],
   "source": []
  },
  {
   "cell_type": "code",
   "execution_count": null,
   "metadata": {
    "collapsed": false,
    "jupyter": {
     "outputs_hidden": false
    },
    "pycharm": {
     "is_executing": false,
     "name": "#%%\n"
    }
   },
   "outputs": [],
   "source": [
    "\n"
   ]
  }
 ],
 "metadata": {
  "kernelspec": {
   "display_name": "Python 3",
   "language": "python",
   "name": "python3"
  },
  "language_info": {
   "codemirror_mode": {
    "name": "ipython",
    "version": 3
   },
   "file_extension": ".py",
   "mimetype": "text/x-python",
   "name": "python",
   "nbconvert_exporter": "python",
   "pygments_lexer": "ipython3",
   "version": "3.7.5"
  },
  "pycharm": {
   "stem_cell": {
    "cell_type": "raw",
    "metadata": {
     "collapsed": false
    },
    "source": []
   }
  }
 },
 "nbformat": 4,
 "nbformat_minor": 4
}
