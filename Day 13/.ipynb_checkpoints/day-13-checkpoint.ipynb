{
 "cells": [
  {
   "cell_type": "code",
   "execution_count": 60,
   "metadata": {
    "pycharm": {
     "is_executing": false
    }
   },
   "outputs": [],
   "source": [
    "import numpy as np\n"
   ]
  },
  {
   "cell_type": "code",
   "execution_count": 61,
   "metadata": {
    "pycharm": {
     "is_executing": false,
     "name": "#%%\n"
    }
   },
   "outputs": [],
   "source": [
    "def sigmoid(z):\n",
    "    return 1 / (1 + np.exp(-z))\n",
    "\n",
    "def hypothesis(x, theta):\n",
    "    return sigmoid(x @ theta)\n",
    "\n",
    "def cost(x, y, theta):\n",
    "    h = hypothesis(x, theta)\n",
    "    m = len(y)\n",
    "    return -1/m * np.sum(y * np.log(h) + (1-y) * np.log(1 - h))\n",
    "\n",
    "def gradient_descent(X, Y, theta, alpha, iter):\n",
    "    m = len(y)\n",
    "    h = hypothesis(X, theta)\n",
    "    for i in range(iter):\n",
    "        theta = theta - 1/m * alpha * (X.T.dot(h-y))\n",
    "    return theta\n",
    "\n",
    "def predict(z):\n",
    "    return np.round(z)"
   ]
  },
  {
   "cell_type": "code",
   "execution_count": 62,
   "metadata": {
    "pycharm": {
     "is_executing": false,
     "name": "#%%\n"
    }
   },
   "outputs": [],
   "source": [
    "np.random.seed(42)\n",
    "x = np.linspace(-2, 2, 100).reshape((100,1))\n",
    "thetas = np.ones((x.shape[1], 1))\n",
    "y = np.ones((x.shape[0], 1))\n",
    "thetas = gradient_descent(x, y, thetas, 0.01, 100)\n",
    "\n",
    "\n",
    "\n"
   ]
  },
  {
   "cell_type": "code",
   "execution_count": null,
   "metadata": {},
   "outputs": [],
   "source": []
  }
 ],
 "metadata": {
  "kernelspec": {
   "display_name": "Python 3",
   "language": "python",
   "name": "python3"
  },
  "language_info": {
   "codemirror_mode": {
    "name": "ipython",
    "version": 3
   },
   "file_extension": ".py",
   "mimetype": "text/x-python",
   "name": "python",
   "nbconvert_exporter": "python",
   "pygments_lexer": "ipython3",
   "version": "3.7.5"
  },
  "pycharm": {
   "stem_cell": {
    "cell_type": "raw",
    "metadata": {
     "collapsed": false
    },
    "source": []
   }
  }
 },
 "nbformat": 4,
 "nbformat_minor": 1
}
