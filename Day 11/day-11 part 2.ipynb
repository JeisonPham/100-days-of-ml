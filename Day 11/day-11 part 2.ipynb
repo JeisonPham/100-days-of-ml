{
 "cells": [
  {
   "cell_type": "code",
   "execution_count": 2,
   "metadata": {},
   "outputs": [],
   "source": [
    "def hypothesis(x, m, b):\n",
    "    p = list()\n",
    "    for i in x:\n",
    "        p.append(i * m + b)\n",
    "    return p"
   ]
  },
  {
   "cell_type": "code",
   "execution_count": 3,
   "metadata": {},
   "outputs": [
    {
     "data": {
      "text/plain": [
       "[0, 1, 2, 3, 4, 5, 6, 7, 8, 9, 10, 11]"
      ]
     },
     "execution_count": 3,
     "metadata": {},
     "output_type": "execute_result"
    }
   ],
   "source": [
    "x = list(range(12))\n",
    "x"
   ]
  },
  {
   "cell_type": "code",
   "execution_count": 4,
   "metadata": {},
   "outputs": [
    {
     "data": {
      "text/plain": [
       "[1, 3, 5, 7, 9, 11, 13, 15, 17, 19, 21, 23]"
      ]
     },
     "execution_count": 4,
     "metadata": {},
     "output_type": "execute_result"
    }
   ],
   "source": [
    "y = hypothesis(x, 2, 1)\n",
    "y"
   ]
  },
  {
   "cell_type": "code",
   "execution_count": 5,
   "metadata": {},
   "outputs": [],
   "source": [
    "def cost_function(x, y, m, b):\n",
    "    c = 0\n",
    "    for i in range(len(x)):\n",
    "        h = m * x[i] + b\n",
    "        loss = h - y[i]\n",
    "        c += loss**2\n",
    "    return (1/len(x) * 0.5 * c)"
   ]
  },
  {
   "cell_type": "code",
   "execution_count": 6,
   "metadata": {},
   "outputs": [
    {
     "data": {
      "text/plain": [
       "0.0"
      ]
     },
     "execution_count": 6,
     "metadata": {},
     "output_type": "execute_result"
    }
   ],
   "source": [
    "cost_function(x, y, 2, 1)"
   ]
  },
  {
   "cell_type": "code",
   "execution_count": 9,
   "metadata": {},
   "outputs": [],
   "source": [
    "def gradient_descent(x, y, m, b, alpha, iter):\n",
    "    z = len(y)\n",
    "    theta_hist = []\n",
    "    cost_hist = []\n",
    "    for i in range(iter):\n",
    "        h = hypothesis(x, m, b)\n",
    "        grad_m = 0\n",
    "        grad_b = 0\n",
    "        for j in range(z):\n",
    "            grad_m += (h[j] - y[j]) * x[j]\n",
    "            grad_b += h[j] - y[j]\n",
    "            \n",
    "        m = m - alpha * grad_m\n",
    "        b = b - alpha * grad_b\n",
    "        theta_hist.append([m,b])\n",
    "        cost_hist.append(cost_function(x, y, m, b))\n",
    "    return theta_hist, cost_hist"
   ]
  },
  {
   "cell_type": "code",
   "execution_count": 13,
   "metadata": {},
   "outputs": [
    {
     "data": {
      "text/plain": [
       "[[array([37.25614897]), array([33.40716387])],\n",
       " [array([-312.56995217]), array([-275.39272979])],\n",
       " [array([2949.24215454]), array([2604.6218077])],\n",
       " [array([-27467.66118059]), array([-24251.84875317])],\n",
       " [array([256174.15251345]), array([226188.45570404])],\n",
       " [array([-2388824.91262238]), array([-2109201.95028286])],\n",
       " [array([22276156.45966739]), array([19668635.94046709])],\n",
       " [array([-2.07728199e+08]), array([-1.83412708e+08])],\n",
       " [array([1.93709417e+09]), array([1.71034886e+09])],\n",
       " [array([-1.80636704e+10]), array([-1.59492392e+10])],\n",
       " [array([1.6844622e+11]), array([1.48728857e+11])],\n",
       " [array([-1.57078425e+12]), array([-1.38691712e+12])],\n",
       " [array([1.464778e+13]), array([1.29331936e+13])],\n",
       " [array([-1.3659257e+14]), array([-1.20603815e+14])],\n",
       " [array([1.27374457e+15]), array([1.12464722e+15])],\n",
       " [array([-1.18778439e+16]), array([-1.04874906e+16])],\n",
       " [array([1.10762534e+17]), array([9.77972973e+16])],\n",
       " [array([-1.03287592e+18]), array([-9.11973296e+17])],\n",
       " [array([9.63171053e+18]), array([8.50427687e+18])],\n",
       " [array([-8.98170301e+19]), array([-7.93035556e+19])],\n",
       " [array([8.37556204e+20]), array([7.39516603e+20])],\n",
       " [array([-7.81032721e+21]), array([-6.89609439e+21])],\n",
       " [array([7.28323793e+22]), array([6.43070321e+22])],\n",
       " [array([-6.7917199e+23]), array([-5.99671951e+23])],\n",
       " [array([6.33337255e+24]), array([5.59202371e+24])],\n",
       " [array([-5.90595732e+25]), array([-5.2146393e+25])],\n",
       " [array([5.50738672e+26]), array([4.86272312e+26])],\n",
       " [array([-5.13571414e+27]), array([-4.53455643e+27])],\n",
       " [array([4.78912432e+28]), array([4.22853646e+28])],\n",
       " [array([-4.46592454e+29]), array([-3.94316862e+29])],\n",
       " [array([4.16453627e+30]), array([3.67705917e+30])],\n",
       " [array([-3.88348756e+31]), array([-3.42890843e+31])],\n",
       " [array([3.62140575e+32]), array([3.19750444e+32])],\n",
       " [array([-3.37701085e+33]), array([-2.98171702e+33])],\n",
       " [array([3.14910923e+34]), array([2.78049228e+34])],\n",
       " [array([-2.93658782e+35]), array([-2.59284743e+35])],\n",
       " [array([2.73840868e+36]), array([2.41786602e+36])],\n",
       " [array([-2.55360389e+37]), array([-2.25469344e+37])],\n",
       " [array([2.38127088e+38]), array([2.10253275e+38])],\n",
       " [array([-2.22056796e+39]), array([-1.96064081e+39])],\n",
       " [array([2.07071027e+40]), array([1.82832462e+40])],\n",
       " [array([-1.93096591e+41]), array([-1.70493794e+41])],\n",
       " [array([1.80065237e+42]), array([1.58987817e+42])],\n",
       " [array([-1.67913319e+43]), array([-1.48258334e+43])],\n",
       " [array([1.56581487e+44]), array([1.38252942e+44])],\n",
       " [array([-1.46014398e+45]), array([-1.28922777e+45])],\n",
       " [array([1.36160442e+46]), array([1.20222269e+46])],\n",
       " [array([-1.26971491e+47]), array([-1.12108925e+47])],\n",
       " [array([1.18402668e+48]), array([1.0454312e+48])],\n",
       " [array([-1.10412123e+49]), array([-9.74879028e+48])]]"
      ]
     },
     "execution_count": 13,
     "metadata": {},
     "output_type": "execute_result"
    }
   ],
   "source": [
    "history, costs = gradient_descent(x, y, 0, 0, 0.05, 50)\n",
    "history"
   ]
  },
  {
   "cell_type": "code",
   "execution_count": 11,
   "metadata": {},
   "outputs": [],
   "source": [
    "import numpy as np\n",
    "np.random.seed(42)\n",
    "x = 2 * np.random.rand(100,1)\n",
    "np.random.seed(41)\n",
    "y = 4 + 3 * x + np.random.randn(100,1)\n",
    "x = list(x)\n",
    "y = list(y)"
   ]
  },
  {
   "cell_type": "code",
   "execution_count": 12,
   "metadata": {},
   "outputs": [
    {
     "ename": "IndexError",
     "evalue": "list index out of range",
     "output_type": "error",
     "traceback": [
      "\u001b[0;31m---------------------------------------------------------------------------\u001b[0m",
      "\u001b[0;31mIndexError\u001b[0m                                Traceback (most recent call last)",
      "\u001b[0;32m<ipython-input-12-90e60d0b58dd>\u001b[0m in \u001b[0;36m<module>\u001b[0;34m\u001b[0m\n\u001b[1;32m     34\u001b[0m                   interval=val, blit=True)\n\u001b[1;32m     35\u001b[0m \u001b[0;34m\u001b[0m\u001b[0m\n\u001b[0;32m---> 36\u001b[0;31m \u001b[0mani\u001b[0m\u001b[0;34m.\u001b[0m\u001b[0msave\u001b[0m\u001b[0;34m(\u001b[0m\u001b[0;34m'animation.gif'\u001b[0m\u001b[0;34m,\u001b[0m \u001b[0mwriter\u001b[0m\u001b[0;34m=\u001b[0m\u001b[0;34m'imagemagick'\u001b[0m\u001b[0;34m,\u001b[0m \u001b[0mfps\u001b[0m\u001b[0;34m=\u001b[0m\u001b[0;36m60\u001b[0m\u001b[0;34m)\u001b[0m\u001b[0;34m\u001b[0m\u001b[0;34m\u001b[0m\u001b[0m\n\u001b[0m\u001b[1;32m     37\u001b[0m \u001b[0mImage\u001b[0m\u001b[0;34m(\u001b[0m\u001b[0murl\u001b[0m\u001b[0;34m=\u001b[0m\u001b[0;34m'animation.gif'\u001b[0m\u001b[0;34m)\u001b[0m\u001b[0;34m\u001b[0m\u001b[0;34m\u001b[0m\u001b[0m\n",
      "\u001b[0;32m~/miniconda3/envs/100-days-of-ml/lib/python3.7/site-packages/matplotlib/animation.py\u001b[0m in \u001b[0;36msave\u001b[0;34m(self, filename, writer, fps, dpi, codec, bitrate, extra_args, metadata, extra_anim, savefig_kwargs, progress_callback)\u001b[0m\n\u001b[1;32m   1150\u001b[0m                     \u001b[0;32mfor\u001b[0m \u001b[0manim\u001b[0m\u001b[0;34m,\u001b[0m \u001b[0md\u001b[0m \u001b[0;32min\u001b[0m \u001b[0mzip\u001b[0m\u001b[0;34m(\u001b[0m\u001b[0mall_anim\u001b[0m\u001b[0;34m,\u001b[0m \u001b[0mdata\u001b[0m\u001b[0;34m)\u001b[0m\u001b[0;34m:\u001b[0m\u001b[0;34m\u001b[0m\u001b[0;34m\u001b[0m\u001b[0m\n\u001b[1;32m   1151\u001b[0m                         \u001b[0;31m# TODO: See if turning off blit is really necessary\u001b[0m\u001b[0;34m\u001b[0m\u001b[0;34m\u001b[0m\u001b[0;34m\u001b[0m\u001b[0m\n\u001b[0;32m-> 1152\u001b[0;31m                         \u001b[0manim\u001b[0m\u001b[0;34m.\u001b[0m\u001b[0m_draw_next_frame\u001b[0m\u001b[0;34m(\u001b[0m\u001b[0md\u001b[0m\u001b[0;34m,\u001b[0m \u001b[0mblit\u001b[0m\u001b[0;34m=\u001b[0m\u001b[0;32mFalse\u001b[0m\u001b[0;34m)\u001b[0m\u001b[0;34m\u001b[0m\u001b[0;34m\u001b[0m\u001b[0m\n\u001b[0m\u001b[1;32m   1153\u001b[0m                         \u001b[0;32mif\u001b[0m \u001b[0mprogress_callback\u001b[0m \u001b[0;32mis\u001b[0m \u001b[0;32mnot\u001b[0m \u001b[0;32mNone\u001b[0m\u001b[0;34m:\u001b[0m\u001b[0;34m\u001b[0m\u001b[0;34m\u001b[0m\u001b[0m\n\u001b[1;32m   1154\u001b[0m                             \u001b[0mprogress_callback\u001b[0m\u001b[0;34m(\u001b[0m\u001b[0mframe_number\u001b[0m\u001b[0;34m,\u001b[0m \u001b[0mtotal_frames\u001b[0m\u001b[0;34m)\u001b[0m\u001b[0;34m\u001b[0m\u001b[0;34m\u001b[0m\u001b[0m\n",
      "\u001b[0;32m~/miniconda3/envs/100-days-of-ml/lib/python3.7/site-packages/matplotlib/animation.py\u001b[0m in \u001b[0;36m_draw_next_frame\u001b[0;34m(self, framedata, blit)\u001b[0m\n\u001b[1;32m   1190\u001b[0m         \u001b[0;31m# post- draw, as well as the drawing of the frame itself.\u001b[0m\u001b[0;34m\u001b[0m\u001b[0;34m\u001b[0m\u001b[0;34m\u001b[0m\u001b[0m\n\u001b[1;32m   1191\u001b[0m         \u001b[0mself\u001b[0m\u001b[0;34m.\u001b[0m\u001b[0m_pre_draw\u001b[0m\u001b[0;34m(\u001b[0m\u001b[0mframedata\u001b[0m\u001b[0;34m,\u001b[0m \u001b[0mblit\u001b[0m\u001b[0;34m)\u001b[0m\u001b[0;34m\u001b[0m\u001b[0;34m\u001b[0m\u001b[0m\n\u001b[0;32m-> 1192\u001b[0;31m         \u001b[0mself\u001b[0m\u001b[0;34m.\u001b[0m\u001b[0m_draw_frame\u001b[0m\u001b[0;34m(\u001b[0m\u001b[0mframedata\u001b[0m\u001b[0;34m)\u001b[0m\u001b[0;34m\u001b[0m\u001b[0;34m\u001b[0m\u001b[0m\n\u001b[0m\u001b[1;32m   1193\u001b[0m         \u001b[0mself\u001b[0m\u001b[0;34m.\u001b[0m\u001b[0m_post_draw\u001b[0m\u001b[0;34m(\u001b[0m\u001b[0mframedata\u001b[0m\u001b[0;34m,\u001b[0m \u001b[0mblit\u001b[0m\u001b[0;34m)\u001b[0m\u001b[0;34m\u001b[0m\u001b[0;34m\u001b[0m\u001b[0m\n\u001b[1;32m   1194\u001b[0m \u001b[0;34m\u001b[0m\u001b[0m\n",
      "\u001b[0;32m~/miniconda3/envs/100-days-of-ml/lib/python3.7/site-packages/matplotlib/animation.py\u001b[0m in \u001b[0;36m_draw_frame\u001b[0;34m(self, framedata)\u001b[0m\n\u001b[1;32m   1753\u001b[0m         \u001b[0;31m# Call the func with framedata and args. If blitting is desired,\u001b[0m\u001b[0;34m\u001b[0m\u001b[0;34m\u001b[0m\u001b[0;34m\u001b[0m\u001b[0m\n\u001b[1;32m   1754\u001b[0m         \u001b[0;31m# func needs to return a sequence of any artists that were modified.\u001b[0m\u001b[0;34m\u001b[0m\u001b[0;34m\u001b[0m\u001b[0;34m\u001b[0m\u001b[0m\n\u001b[0;32m-> 1755\u001b[0;31m         \u001b[0mself\u001b[0m\u001b[0;34m.\u001b[0m\u001b[0m_drawn_artists\u001b[0m \u001b[0;34m=\u001b[0m \u001b[0mself\u001b[0m\u001b[0;34m.\u001b[0m\u001b[0m_func\u001b[0m\u001b[0;34m(\u001b[0m\u001b[0mframedata\u001b[0m\u001b[0;34m,\u001b[0m \u001b[0;34m*\u001b[0m\u001b[0mself\u001b[0m\u001b[0;34m.\u001b[0m\u001b[0m_args\u001b[0m\u001b[0;34m)\u001b[0m\u001b[0;34m\u001b[0m\u001b[0;34m\u001b[0m\u001b[0m\n\u001b[0m\u001b[1;32m   1756\u001b[0m         \u001b[0;32mif\u001b[0m \u001b[0mself\u001b[0m\u001b[0;34m.\u001b[0m\u001b[0m_blit\u001b[0m\u001b[0;34m:\u001b[0m\u001b[0;34m\u001b[0m\u001b[0;34m\u001b[0m\u001b[0m\n\u001b[1;32m   1757\u001b[0m             \u001b[0;32mif\u001b[0m \u001b[0mself\u001b[0m\u001b[0;34m.\u001b[0m\u001b[0m_drawn_artists\u001b[0m \u001b[0;32mis\u001b[0m \u001b[0;32mNone\u001b[0m\u001b[0;34m:\u001b[0m\u001b[0;34m\u001b[0m\u001b[0;34m\u001b[0m\u001b[0m\n",
      "\u001b[0;32m<ipython-input-12-90e60d0b58dd>\u001b[0m in \u001b[0;36mupdate\u001b[0;34m(num)\u001b[0m\n\u001b[1;32m     15\u001b[0m \u001b[0;34m\u001b[0m\u001b[0m\n\u001b[1;32m     16\u001b[0m \u001b[0;32mdef\u001b[0m \u001b[0mupdate\u001b[0m\u001b[0;34m(\u001b[0m\u001b[0mnum\u001b[0m\u001b[0;34m)\u001b[0m\u001b[0;34m:\u001b[0m\u001b[0;34m\u001b[0m\u001b[0;34m\u001b[0m\u001b[0m\n\u001b[0;32m---> 17\u001b[0;31m     \u001b[0mpredict\u001b[0m \u001b[0;34m=\u001b[0m \u001b[0mhypothesis\u001b[0m\u001b[0;34m(\u001b[0m\u001b[0mx\u001b[0m\u001b[0;34m,\u001b[0m \u001b[0mhistory\u001b[0m\u001b[0;34m[\u001b[0m\u001b[0mnum\u001b[0m\u001b[0;34m]\u001b[0m\u001b[0;34m[\u001b[0m\u001b[0;36m0\u001b[0m\u001b[0;34m]\u001b[0m\u001b[0;34m,\u001b[0m \u001b[0mhistory\u001b[0m\u001b[0;34m[\u001b[0m\u001b[0mnum\u001b[0m\u001b[0;34m]\u001b[0m\u001b[0;34m[\u001b[0m\u001b[0;36m1\u001b[0m\u001b[0;34m]\u001b[0m\u001b[0;34m)\u001b[0m\u001b[0;34m\u001b[0m\u001b[0;34m\u001b[0m\u001b[0m\n\u001b[0m\u001b[1;32m     18\u001b[0m     \u001b[0max1\u001b[0m\u001b[0;34m.\u001b[0m\u001b[0mset_title\u001b[0m\u001b[0;34m(\u001b[0m\u001b[0;34mf\"Frame {num}\"\u001b[0m\u001b[0;34m)\u001b[0m\u001b[0;34m\u001b[0m\u001b[0;34m\u001b[0m\u001b[0m\n\u001b[1;32m     19\u001b[0m     \u001b[0mline1\u001b[0m\u001b[0;34m.\u001b[0m\u001b[0mset_data\u001b[0m\u001b[0;34m(\u001b[0m\u001b[0mx\u001b[0m\u001b[0;34m,\u001b[0m \u001b[0my\u001b[0m\u001b[0;34m)\u001b[0m\u001b[0;34m\u001b[0m\u001b[0;34m\u001b[0m\u001b[0m\n",
      "\u001b[0;31mIndexError\u001b[0m: list index out of range"
     ]
    },
    {
     "data": {
      "image/png": "[encoded data removed]",
      "text/plain": [
       "<Figure size 576x576 with 2 Axes>"
      ]
     },
     "metadata": {},
     "output_type": "display_data"
    }
   ],
   "source": [
    "import numpy as np\n",
    "import matplotlib.pyplot as plt\n",
    "import matplotlib.animation as animation\n",
    "from IPython.display import HTML, Image\n",
    "import seaborn as sns\n",
    "sns.set()\n",
    "\n",
    "\n",
    "fig, (ax1, ax2) = plt.subplots(2,1, figsize=(8,8))\n",
    "line1, = ax1.plot([], [], color = \"r\", marker='*', linestyle='None')\n",
    "line2, = ax1.plot([], [], color = \"g\")\n",
    "line3, = ax2.plot([], [], color='skyblue')\n",
    "\n",
    "val = len(history)\n",
    "\n",
    "def update(num):\n",
    "    predict = hypothesis(x, history[num][0], history[num][1])\n",
    "    ax1.set_title(f\"Frame {num}\")\n",
    "    line1.set_data(x, y)\n",
    "    line2.set_data(x, predict)\n",
    "    line3.set_data(range(val)[:num], costs[:num])\n",
    "    return [line1,line2, line3]\n",
    "ax1.set_xlim(0,2)\n",
    "ax1.set_xlabel(\"X\")\n",
    "ax1.set_xlabel(\"Y\")\n",
    "ax1.set_ylim(0,14)\n",
    "ax2.set_xlim(0,val)\n",
    "ax2.set_ylim(0,np.max(costs))\n",
    "ax2.set_xlabel(\"Iterations\")\n",
    "ax2.set_ylabel(\"Cost\")\n",
    "\n",
    "\n",
    "ani = animation.FuncAnimation(fig, update, len(x),\n",
    "                  interval=val, blit=True)\n",
    "\n",
    "ani.save('animation.gif', writer='imagemagick', fps=60)\n",
    "Image(url='animation.gif')\n"
   ]
  },
  {
   "cell_type": "code",
   "execution_count": null,
   "metadata": {},
   "outputs": [],
   "source": []
  }
 ],
 "metadata": {
  "kernelspec": {
   "display_name": "Python 3",
   "language": "python",
   "name": "python3"
  },
  "language_info": {
   "codemirror_mode": {
    "name": "ipython",
    "version": 3
   },
   "file_extension": ".py",
   "mimetype": "text/x-python",
   "name": "python",
   "nbconvert_exporter": "python",
   "pygments_lexer": "ipython3",
   "version": "3.7.5"
  }
 },
 "nbformat": 4,
 "nbformat_minor": 4
}
