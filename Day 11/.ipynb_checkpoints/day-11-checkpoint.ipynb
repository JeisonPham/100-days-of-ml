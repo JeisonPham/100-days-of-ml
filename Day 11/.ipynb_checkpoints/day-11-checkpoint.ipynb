{
 "cells": [
  {
   "cell_type": "code",
   "execution_count": 11,
   "metadata": {
    "pycharm": {
     "is_executing": false
    }
   },
   "outputs": [],
   "source": [
    "import numpy as np\n",
    "\n"
   ]
  },
  {
   "cell_type": "code",
   "execution_count": 2,
   "metadata": {
    "pycharm": {
     "is_executing": false,
     "name": "#%%\n"
    }
   },
   "outputs": [],
   "source": [
    "def hypothesis(x, theta0, theta1):\n",
    "    y = theta0 + theta1 * x\n",
    "    return y\n",
    "    "
   ]
  },
  {
   "cell_type": "code",
   "execution_count": 3,
   "metadata": {
    "pycharm": {
     "is_executing": false,
     "name": "#%%\n"
    }
   },
   "outputs": [
    {
     "name": "stdout",
     "output_type": "stream",
     "text": [
      "[3. 6. 9.]\n"
     ]
    }
   ],
   "source": [
    "x = np.array([1.0, 2.0, 3.0])\n",
    "print(hypothesis(x, 0, 3))"
   ]
  },
  {
   "cell_type": "code",
   "execution_count": 4,
   "metadata": {
    "pycharm": {
     "is_executing": false,
     "name": "#%%\n"
    }
   },
   "outputs": [],
   "source": [
    "def cost(x, y, theta0, theta1):\n",
    "    return (1/2*len(x)) * np.sum(np.square(hypothesis(x, theta0, theta1) - y))"
   ]
  },
  {
   "cell_type": "code",
   "execution_count": 5,
   "metadata": {
    "pycharm": {
     "is_executing": false,
     "name": "#%%\n"
    }
   },
   "outputs": [],
   "source": [
    "def gradient(theta0, theta1, learning_rate, x, y, iter):\n",
    "    t0 = theta0\n",
    "    t1 = theta1\n",
    "    history = []\n",
    "    for i in range(iter):\n",
    "        prediction = hypothesis(x, t0, t1)\n",
    "        temp0 = t0 - learning_rate / len(x) * np.sum(prediction - y)\n",
    "        temp1 = t1 - learning_rate / len(x) * np.sum(np.multiply((prediction - y), x))\n",
    "        t0 = temp0\n",
    "        t1 = temp1\n",
    "        history.append([t0, t1])\n",
    "    return history"
   ]
  },
  {
   "cell_type": "code",
   "execution_count": 6,
   "metadata": {
    "pycharm": {
     "is_executing": false,
     "name": "#%%\n"
    }
   },
   "outputs": [
    {
     "name": "stdout",
     "output_type": "stream",
     "text": [
      "60.0\n"
     ]
    }
   ],
   "source": [
    "x = np.array([1.,2.,3.,4.])\n",
    "y = np.array([1.,2.,3.,4.])\n",
    "theta0 = 0\n",
    "theta1= 0\n",
    "print(cost(x, y, theta0, theta1))\n",
    "history = gradient(theta0, theta1, 0.01, x, y, 100)\n",
    "theta0 = history[-1][0]\n",
    "theta1 = history[-1][1]"
   ]
  },
  {
   "cell_type": "code",
   "execution_count": 7,
   "metadata": {
    "pycharm": {
     "is_executing": false,
     "name": "#%%\n"
    }
   },
   "outputs": [
    {
     "data": {
      "text/plain": [
       "array([1.17298353, 2.08357483, 2.99416613, 3.90475743])"
      ]
     },
     "execution_count": 7,
     "metadata": {},
     "output_type": "execute_result"
    }
   ],
   "source": [
    "hypothesis(x, theta0, theta1)"
   ]
  },
  {
   "cell_type": "code",
   "execution_count": 8,
   "metadata": {
    "pycharm": {
     "is_executing": false,
     "name": "#%%\n"
    }
   },
   "outputs": [],
   "source": [
    "def visualize(thetas, x, y):\n",
    "    plt.interactive(True)\n",
    "    for i in range(len(thetas)):\n",
    "        plt.plot(x, y, color='r', marker='x', linestyle='None')\n",
    "        ts = thetas[i]\n",
    "        predict = hypothesis(x, ts[0], ts[1])\n",
    "        plt.plot(x, predict, color='blue')\n",
    "        plt.show()\n",
    "        plt.clf()"
   ]
  },
  {
   "cell_type": "code",
   "execution_count": 10,
   "metadata": {
    "pycharm": {
     "is_executing": false,
     "name": "#%%\n"
    }
   },
   "outputs": [
    {
     "data": {
      "text/plain": [
       "100"
      ]
     },
     "execution_count": 10,
     "metadata": {},
     "output_type": "execute_result"
    }
   ],
   "source": [
    "len(history)"
   ]
  },
  {
   "cell_type": "code",
   "execution_count": 12,
   "metadata": {
    "pycharm": {
     "is_executing": false,
     "name": "#%%\n"
    }
   },
   "outputs": [
    {
     "data": {
      "image/png": "[encoded data removed]",
      "text/plain": [
       "<Figure size 432x288 with 1 Axes>"
      ]
     },
     "metadata": {
      "needs_background": "light"
     },
     "output_type": "display_data"
    }
   ],
   "source": [
    "\n",
    "import matplotlib.pyplot as plt\n",
    "import matplotlib.animation as animation\n",
    "import pandas as pd\n",
    "import numpy as np\n",
    "%matplotlib inline\n",
    "from IPython.display import HTML\n",
    "\n",
    "\n",
    "fig = plt.figure()\n",
    "ax = plt.axes(xlim=(0,5), ylim=(0,5))\n",
    "\n",
    "lines = [plt.plot([], [], color='red', marker='*', linestyle='None')[0],plt.plot([], [])[0]]\n",
    "\n",
    "def animate(i):\n",
    "    ts = history[i]\n",
    "    lines[0].set_data(x,y)\n",
    "    lines[1].set_data(x, hypothesis(x, ts[0], ts[1]))\n",
    "    return lines\n",
    "\n",
    "anim = animation.FuncAnimation(fig, animate, \n",
    "           frames=len(history), interval=20, blit=True)\n",
    "\n",
    "HTML(anim)"
   ]
  },
  {
   "cell_type": "code",
   "execution_count": 9,
   "metadata": {
    "pycharm": {
     "is_executing": false,
     "name": "#%%\n"
    }
   },
   "outputs": [],
   "source": [
    "\n"
   ]
  }
 ],
 "metadata": {
  "kernelspec": {
   "display_name": "Python 3",
   "language": "python",
   "name": "python3"
  },
  "language_info": {
   "codemirror_mode": {
    "name": "ipython",
    "version": 3
   },
   "file_extension": ".py",
   "mimetype": "text/x-python",
   "name": "python",
   "nbconvert_exporter": "python",
   "pygments_lexer": "ipython3",
   "version": "3.7.5"
  },
  "pycharm": {
   "stem_cell": {
    "cell_type": "raw",
    "metadata": {
     "collapsed": false
    },
    "source": []
   }
  }
 },
 "nbformat": 4,
 "nbformat_minor": 1
}
