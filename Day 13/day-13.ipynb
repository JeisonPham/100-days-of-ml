{
 "cells": [
  {
   "cell_type": "code",
   "execution_count": 1,
   "metadata": {
    "collapsed": true,
    "pycharm": {
     "is_executing": false
    }
   },
   "outputs": [],
   "source": [
    "import numpy as np\n"
   ]
  },
  {
   "cell_type": "code",
   "execution_count": 56,
   "outputs": [],
   "source": [
    "def sigmoid(z):\n",
    "    return 1 / (1 + np.exp(-z))\n",
    "\n",
    "def hypothesis(x, theta):\n",
    "    return sigmoid(x @ theta)\n",
    "\n",
    "def cost(x, y, theta):\n",
    "    h = hypothesis(x, theta)\n",
    "    m = len(y)\n",
    "    return -1/m * np.sum(y * np.log(h) + (1-y) * np.log(1 - h))\n",
    "\n",
    "def gradient_descent(X, Y, theta, alpha, iter):\n",
    "    m = len(y)\n",
    "    h = hypothesis(X, theta)\n",
    "    for i in range(iter):\n",
    "        theta = theta - 1/m * alpha * (X.T.dot(h-y))\n",
    "    return theta\n",
    "\n",
    "def predict(z):\n",
    "    return np.round(z)"
   ],
   "metadata": {
    "collapsed": false,
    "pycharm": {
     "name": "#%%\n",
     "is_executing": false
    }
   }
  },
  {
   "cell_type": "code",
   "execution_count": 57,
   "outputs": [],
   "source": [
    "np.random.seed(42)\n",
    "x = np.linspace(-2, 2, 100).reshape((100,1))\n",
    "thetas = np.ones((x.shape[1], 1))\n",
    "y = np.ones((x.shape[0], 1))\n",
    "thetas = gradient_descent(x, y, thetas, 0.01, 100)\n",
    "\n",
    "\n",
    "\n"
   ],
   "metadata": {
    "collapsed": false,
    "pycharm": {
     "name": "#%%\n",
     "is_executing": false
    }
   }
  }
 ],
 "metadata": {
  "kernelspec": {
   "display_name": "Python 3",
   "language": "python",
   "name": "python3"
  },
  "language_info": {
   "codemirror_mode": {
    "name": "ipython",
    "version": 2
   },
   "file_extension": ".py",
   "mimetype": "text/x-python",
   "name": "python",
   "nbconvert_exporter": "python",
   "pygments_lexer": "ipython2",
   "version": "2.7.6"
  },
  "pycharm": {
   "stem_cell": {
    "cell_type": "raw",
    "source": [],
    "metadata": {
     "collapsed": false
    }
   }
  }
 },
 "nbformat": 4,
 "nbformat_minor": 0
}