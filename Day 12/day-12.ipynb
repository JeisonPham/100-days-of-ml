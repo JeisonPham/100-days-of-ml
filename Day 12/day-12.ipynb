{
 "cells": [
  {
   "cell_type": "code",
   "execution_count": 1,
   "metadata": {
    "pycharm": {
     "is_executing": false
    }
   },
   "outputs": [],
   "source": [
    "import numpy as np\n",
    "%matplotlib inline"
   ]
  },
  {
   "cell_type": "code",
   "execution_count": 2,
   "metadata": {
    "pycharm": {
     "is_executing": false,
     "name": "#%%\n"
    }
   },
   "outputs": [],
   "source": [
    "def hypothesis(x, thetas):\n",
    "    return np.dot(x, thetas)"
   ]
  },
  {
   "cell_type": "code",
   "execution_count": 3,
   "metadata": {
    "pycharm": {
     "is_executing": false,
     "name": "#%%\n"
    }
   },
   "outputs": [],
   "source": [
    "def cost(x, y, theta):\n",
    "    m = len(y)\n",
    "    J = 0\n",
    "    h = hypothesis(x, theta)\n",
    "    J = (1/(2 * m)) * np.sum(np.square(h - y))\n",
    "    return J"
   ]
  },
  {
   "cell_type": "code",
   "execution_count": 66,
   "metadata": {
    "pycharm": {
     "is_executing": false,
     "name": "#%%\n"
    }
   },
   "outputs": [],
   "source": [
    "def gradientDescent(X, y, theta, alpha, lambda_, iter):\n",
    "    X1 = X.copy()\n",
    "    y1 = y.copy()\n",
    "    m = len(y)\n",
    "    theta1 = theta.copy()\n",
    "    theta_history = []\n",
    "    J_history = []\n",
    "    \n",
    "    for i in range(iter):\n",
    "        h = np.dot(X1, theta1)\n",
    "        loss = h - y1\n",
    "        theta1 = theta1 - (alpha / m) * X1.T @ (loss) - lambda_/m * theta1\n",
    "        theta_history.append(theta1)\n",
    "        J_history.append(cost(X1, y1, theta1))\n",
    "    return theta_history, J_history"
   ]
  },
  {
   "cell_type": "code",
   "execution_count": null,
   "metadata": {
    "pycharm": {
     "is_executing": false,
     "name": "#%%\n"
    }
   },
   "outputs": [],
   "source": [
    "np.random.seed(42)\n",
    "x = 2 * np.random.rand(100,1).reshape((50, 2))\n",
    "np.random.seed(41)\n",
    "y = (4 + 3 * x[:, 0] + 2 *x[:, 1]).reshape((50,1))\n",
    "x = np.c_[np.ones(len(x)), x]\n",
    "thetas = np.ones((x.shape[1],1))\n",
    "x.shape, thetas.shape, y.shape"
   ]
  },
  {
   "cell_type": "code",
   "execution_count": null,
   "metadata": {},
   "outputs": [],
   "source": [
    "np.random.seed(42)\n",
    "x = 2 * np.random.rand(100,1)\n",
    "np.random.seed(41)\n",
    "y = 4 + 3 * x + np.random.randn(100,1)\n",
    "x = np.c_[np.ones(len(x)), x]\n",
    "thetas = np.ones((x.shape[1],1))\n",
    "x.shape, thetas.shape, y.shape"
   ]
  },
  {
   "cell_type": "code",
   "execution_count": 67,
   "metadata": {},
   "outputs": [
    {
     "data": {
      "text/plain": [
       "((47, 3), (47, 1), (3, 1))"
      ]
     },
     "execution_count": 67,
     "metadata": {},
     "output_type": "execute_result"
    }
   ],
   "source": [
    "from numpy import genfromtxt\n",
    "my_data = genfromtxt('housing_prices.csv', delimiter=',')\n",
    "x = my_data[:, 0:2]\n",
    "y = np.reshape(my_data[:, -1], (x.shape[0], 1))\n",
    "x = np.c_[np.ones(len(x)), x]\n",
    "thetas = np.ones((x.shape[1],1))\n",
    "x.shape, y.shape, thetas.shape"
   ]
  },
  {
   "cell_type": "code",
   "execution_count": 72,
   "metadata": {
    "pycharm": {
     "is_executing": false,
     "name": "#%%\n"
    }
   },
   "outputs": [],
   "source": [
    "t_hist, c_hist = gradientDescent(x, y, thetas, 1e-7, 10, 10)"
   ]
  },
  {
   "cell_type": "code",
   "execution_count": 73,
   "metadata": {},
   "outputs": [
    {
     "data": {
      "image/png": "[encoded data removed]",
      "text/plain": [
       "<Figure size 432x288 with 1 Axes>"
      ]
     },
     "metadata": {
      "needs_background": "light"
     },
     "output_type": "display_data"
    }
   ],
   "source": [
    "import matplotlib.pyplot as plt\n",
    "plt.title('Cost Function J')\n",
    "plt.xlabel('No. of iterations')\n",
    "plt.ylabel('Cost')\n",
    "plt.plot(c_hist)\n",
    "plt.show()"
   ]
  },
  {
   "cell_type": "code",
   "execution_count": null,
   "metadata": {},
   "outputs": [],
   "source": []
  }
 ],
 "metadata": {
  "kernelspec": {
   "display_name": "Python 3",
   "language": "python",
   "name": "python3"
  },
  "language_info": {
   "codemirror_mode": {
    "name": "ipython",
    "version": 3
   },
   "file_extension": ".py",
   "mimetype": "text/x-python",
   "name": "python",
   "nbconvert_exporter": "python",
   "pygments_lexer": "ipython3",
   "version": "3.7.5"
  },
  "pycharm": {
   "stem_cell": {
    "cell_type": "raw",
    "metadata": {
     "collapsed": false
    },
    "source": []
   }
  }
 },
 "nbformat": 4,
 "nbformat_minor": 4
}
